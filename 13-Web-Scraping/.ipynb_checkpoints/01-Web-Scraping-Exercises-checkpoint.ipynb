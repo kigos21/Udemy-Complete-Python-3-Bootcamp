{
 "cells": [
  {
   "cell_type": "markdown",
   "metadata": {},
   "source": [
    "___\n",
    "\n",
    "<a href='https://www.udemy.com/user/joseportilla/'><img src='../Pierian_Data_Logo.png'/></a>\n",
    "___\n",
    "<center><em>Content Copyright by Pierian Data</em></center>"
   ]
  },
  {
   "cell_type": "markdown",
   "metadata": {},
   "source": [
    "# Web Scraping Exercises \n",
    "\n",
    "## Complete the Tasks Below"
   ]
  },
  {
   "cell_type": "markdown",
   "metadata": {},
   "source": [
    "**TASK: Import any libraries you think you'll need to scrape a website.**"
   ]
  },
  {
   "cell_type": "code",
   "execution_count": null,
   "metadata": {},
   "outputs": [],
   "source": [
    "# CODE HERE"
   ]
  },
  {
   "cell_type": "code",
   "execution_count": null,
   "metadata": {},
   "outputs": [],
   "source": [
    "import requests\n",
    "import bs4\n",
    "import lxml"
   ]
  },
  {
   "cell_type": "markdown",
   "metadata": {},
   "source": [
    "**TASK: Use requests library and BeautifulSoup to connect to http://quotes.toscrape.com/ and get the HMTL text from the homepage.**"
   ]
  },
  {
   "cell_type": "code",
   "execution_count": null,
   "metadata": {},
   "outputs": [],
   "source": [
    "# CODE HERE"
   ]
  },
  {
   "cell_type": "code",
   "execution_count": null,
   "metadata": {},
   "outputs": [],
   "source": [
    "req = requests.get('http://quotes.toscrape.com/page/1/')"
   ]
  },
  {
   "cell_type": "code",
   "execution_count": null,
   "metadata": {},
   "outputs": [],
   "source": [
    "soup = bs4.BeautifulSoup(req.text, 'lxml')\n",
    "soup"
   ]
  },
  {
   "cell_type": "markdown",
   "metadata": {},
   "source": [
    "**TASK: Get the names of all the authors on the first page.**"
   ]
  },
  {
   "cell_type": "code",
   "execution_count": null,
   "metadata": {},
   "outputs": [],
   "source": [
    "# CODE HERE"
   ]
  },
  {
   "cell_type": "code",
   "execution_count": null,
   "metadata": {},
   "outputs": [],
   "source": [
    "soup.select('.author')"
   ]
  },
  {
   "cell_type": "code",
   "execution_count": null,
   "metadata": {},
   "outputs": [],
   "source": [
    "authors_list = soup.select('.author')\n",
    "authors_set = set()\n",
    "\n",
    "for author in authors_list:\n",
    "    authors_set.add(author.text)"
   ]
  },
  {
   "cell_type": "code",
   "execution_count": null,
   "metadata": {},
   "outputs": [],
   "source": [
    "authors_set"
   ]
  },
  {
   "cell_type": "code",
   "execution_count": null,
   "metadata": {},
   "outputs": [],
   "source": [
    "authors"
   ]
  },
  {
   "cell_type": "markdown",
   "metadata": {},
   "source": [
    "**TASK: Create a list of all the quotes on the first page.**"
   ]
  },
  {
   "cell_type": "code",
   "execution_count": null,
   "metadata": {
    "scrolled": true
   },
   "outputs": [],
   "source": [
    "soup"
   ]
  },
  {
   "cell_type": "code",
   "execution_count": null,
   "metadata": {},
   "outputs": [],
   "source": [
    "quotes = []\n",
    "\n",
    "for item in soup.select('.text'):\n",
    "    quotes.append(item.text)\n",
    "    \n",
    "quotes"
   ]
  },
  {
   "cell_type": "code",
   "execution_count": null,
   "metadata": {},
   "outputs": [],
   "source": [
    "quotes"
   ]
  },
  {
   "cell_type": "code",
   "execution_count": null,
   "metadata": {},
   "outputs": [],
   "source": [
    "quotes"
   ]
  },
  {
   "cell_type": "markdown",
   "metadata": {},
   "source": [
    "**TASK: Inspect the site and use Beautiful Soup to extract the top ten tags from the requests text shown on the top right from the home page (e.g Love,Inspirational,Life, etc...). HINT: Keep in mind there are also tags underneath each quote, try to find a class only present in the top right tags, perhaps check the span.**"
   ]
  },
  {
   "cell_type": "code",
   "execution_count": 57,
   "metadata": {},
   "outputs": [
    {
     "data": {
      "text/plain": [
       "'\\nsimile\\n'"
      ]
     },
     "execution_count": 57,
     "metadata": {},
     "output_type": "execute_result"
    }
   ],
   "source": [
    "soup.select('.tag-item')[9].text"
   ]
  },
  {
   "cell_type": "code",
   "execution_count": 62,
   "metadata": {},
   "outputs": [
    {
     "name": "stdout",
     "output_type": "stream",
     "text": [
      "\n",
      "love\n",
      "\n",
      "\n",
      "inspirational\n",
      "\n",
      "\n",
      "life\n",
      "\n",
      "\n",
      "humor\n",
      "\n",
      "\n",
      "books\n",
      "\n",
      "\n",
      "reading\n",
      "\n",
      "\n",
      "friendship\n",
      "\n",
      "\n",
      "friends\n",
      "\n",
      "\n",
      "truth\n",
      "\n",
      "\n",
      "simile\n",
      "\n"
     ]
    }
   ],
   "source": [
    "first_span = soup.select('span')\n",
    "second_span = []\n",
    "top_tags = []\n",
    "\n",
    "for span in span_refs:\n",
    "    try:\n",
    "        tag = span['class']\n",
    "        if tag == ['tag-item']:\n",
    "            second_span.append(span)\n",
    "    except:\n",
    "        continue\n",
    "        \n",
    "for span in second_span:\n",
    "    top_tags.append(span.text)\n",
    "    \n",
    "for item in top_tags:\n",
    "    print(item)"
   ]
  },
  {
   "cell_type": "code",
   "execution_count": 63,
   "metadata": {},
   "outputs": [
    {
     "data": {
      "text/plain": [
       "['\\nlove\\n',\n",
       " '\\ninspirational\\n',\n",
       " '\\nlife\\n',\n",
       " '\\nhumor\\n',\n",
       " '\\nbooks\\n',\n",
       " '\\nreading\\n',\n",
       " '\\nfriendship\\n',\n",
       " '\\nfriends\\n',\n",
       " '\\ntruth\\n',\n",
       " '\\nsimile\\n']"
      ]
     },
     "execution_count": 63,
     "metadata": {},
     "output_type": "execute_result"
    }
   ],
   "source": [
    "top_tags"
   ]
  },
  {
   "cell_type": "markdown",
   "metadata": {},
   "source": [
    "**TASK: Notice how there is more than one page, and subsequent pages look like this http://quotes.toscrape.com/page/2/. Use what you know about for loops and string concatenation to loop through all the pages and get all the unique authors on the website. Keep in mind there are many ways to achieve this, also note that you will need to somehow figure out how to check that your loop is on the last page with quotes. For debugging purposes, I will let you know that there are only 10 pages, so the last page is http://quotes.toscrape.com/page/10/, but try to create a loop that is robust enough that it wouldn't matter to know the amount of pages beforehand, perhaps use try/except for this, its up to you!**"
   ]
  },
  {
   "cell_type": "code",
   "execution_count": 74,
   "metadata": {},
   "outputs": [],
   "source": [
    "import requests\n",
    "import bs4\n",
    "import lxml\n",
    "\n",
    "page = 1\n",
    "authors = set()\n",
    "\n",
    "while True:\n",
    "    url = f'http://quotes.toscrape.com/page/{page}/'\n",
    "    content = requests.get(url)\n",
    "    soup = bs4.BeautifulSoup(content.text, \"lxml\")\n",
    "\n",
    "    if len(soup.select('.next')) == 0:\n",
    "        break\n",
    "\n",
    "    for author in soup.select('.author'):\n",
    "        authors.add(author.text)\n",
    "    \n",
    "    page += 1"
   ]
  },
  {
   "cell_type": "code",
   "execution_count": 75,
   "metadata": {},
   "outputs": [
    {
     "data": {
      "text/plain": [
       "{'Albert Einstein',\n",
       " 'Alexandre Dumas fils',\n",
       " 'Alfred Tennyson',\n",
       " 'Allen Saunders',\n",
       " 'André Gide',\n",
       " 'Ayn Rand',\n",
       " 'Bob Marley',\n",
       " 'C.S. Lewis',\n",
       " 'Charles Bukowski',\n",
       " 'Charles M. Schulz',\n",
       " 'Douglas Adams',\n",
       " 'Dr. Seuss',\n",
       " 'Eleanor Roosevelt',\n",
       " 'Elie Wiesel',\n",
       " 'Ernest Hemingway',\n",
       " 'Friedrich Nietzsche',\n",
       " 'Garrison Keillor',\n",
       " 'George Bernard Shaw',\n",
       " 'George Carlin',\n",
       " 'George Eliot',\n",
       " 'George R.R. Martin',\n",
       " 'Haruki Murakami',\n",
       " 'Helen Keller',\n",
       " 'J.D. Salinger',\n",
       " 'J.K. Rowling',\n",
       " 'J.R.R. Tolkien',\n",
       " 'James Baldwin',\n",
       " 'Jane Austen',\n",
       " 'Jim Henson',\n",
       " 'John Lennon',\n",
       " 'Jorge Luis Borges',\n",
       " 'Marilyn Monroe',\n",
       " 'Mark Twain',\n",
       " 'Martin Luther King Jr.',\n",
       " 'Mother Teresa',\n",
       " 'Pablo Neruda',\n",
       " 'Ralph Waldo Emerson',\n",
       " 'Stephenie Meyer',\n",
       " 'Steve Martin',\n",
       " 'Suzanne Collins',\n",
       " 'Terry Pratchett',\n",
       " 'Thomas A. Edison',\n",
       " 'W.C. Fields',\n",
       " 'William Nicholson'}"
      ]
     },
     "execution_count": 75,
     "metadata": {},
     "output_type": "execute_result"
    }
   ],
   "source": [
    "authors"
   ]
  },
  {
   "cell_type": "code",
   "execution_count": null,
   "metadata": {},
   "outputs": [],
   "source": [
    "# CODE HERE\n",
    "\n",
    "page = 1\n",
    "\n",
    "while True:\n",
    "    url = f'http://quotes.toscrape.com/page/{page}/'\n",
    "    content = requests.get(url)\n",
    "\n",
    "    \n",
    "print(\"\\n\\nDone!\")"
   ]
  },
  {
   "cell_type": "markdown",
   "metadata": {},
   "source": [
    "There are lots of other potential solutions that are even more robust and flexible, the main idea is the same though, use a while loop to cycle through potential pages and have a break condition based on the invalid page."
   ]
  }
 ],
 "metadata": {
  "kernelspec": {
   "display_name": "Python 3 (ipykernel)",
   "language": "python",
   "name": "python3"
  },
  "language_info": {
   "codemirror_mode": {
    "name": "ipython",
    "version": 3
   },
   "file_extension": ".py",
   "mimetype": "text/x-python",
   "name": "python",
   "nbconvert_exporter": "python",
   "pygments_lexer": "ipython3",
   "version": "3.10.5"
  }
 },
 "nbformat": 4,
 "nbformat_minor": 2
}
