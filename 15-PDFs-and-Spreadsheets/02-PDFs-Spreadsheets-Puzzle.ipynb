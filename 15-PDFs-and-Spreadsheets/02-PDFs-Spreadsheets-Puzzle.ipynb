{
 "cells": [
  {
   "cell_type": "markdown",
   "metadata": {},
   "source": [
    "___\n",
    "\n",
    "<a href='https://www.udemy.com/user/joseportilla/'><img src='../Pierian_Data_Logo.png'/></a>\n",
    "___\n",
    "<center><em>Content Copyright by Pierian Data</em></center>"
   ]
  },
  {
   "cell_type": "markdown",
   "metadata": {},
   "source": [
    "# PDFs and Spreadsheets Puzzle Exercise\n",
    "\n",
    "Let's test your skills, the files needed for this puzzle exercise\n",
    "\n",
    "You will need to work with two files for this exercise and solve the following tasks:\n",
    "\n",
    "* Task One: Use Python to extract the Google Drive link from the .csv file. (Hint: Its along the diagonal from top left to bottom right).\n",
    "* Task Two: Download the PDF from the Google Drive link (we already downloaded it for you just in case you can't download from Google Drive) and find the phone number that is in the document. Note: There are different ways of formatting a phone number!"
   ]
  },
  {
   "cell_type": "markdown",
   "metadata": {},
   "source": [
    "## Task One: Grab the Google Drive Link from .csv File"
   ]
  },
  {
   "cell_type": "code",
   "execution_count": 1,
   "metadata": {},
   "outputs": [
    {
     "data": {
      "text/plain": [
       "'C:\\\\Users\\\\user\\\\Documents\\\\Udemy-Complete-Python-3-Bootcamp\\\\15-PDFs-and-Spreadsheets'"
      ]
     },
     "execution_count": 1,
     "metadata": {},
     "output_type": "execute_result"
    }
   ],
   "source": [
    "pwd"
   ]
  },
  {
   "cell_type": "code",
   "execution_count": 2,
   "metadata": {},
   "outputs": [
    {
     "name": "stdout",
     "output_type": "stream",
     "text": [
      " Volume in drive C has no label.\n",
      " Volume Serial Number is D495-F73C\n",
      "\n",
      " Directory of C:\\Users\\user\\Documents\\Udemy-Complete-Python-3-Bootcamp\\15-PDFs-and-Spreadsheets\n",
      "\n",
      "24/07/2022  05:56 pm    <DIR>          .\n",
      "24/07/2022  05:56 pm    <DIR>          ..\n",
      "26/06/2022  03:16 pm    <DIR>          .ipynb_checkpoints\n",
      "24/07/2022  04:32 pm            15,886 00-Working-with-CSV-Files.ipynb\n",
      "24/07/2022  05:30 pm            19,642 01-Working-with-PDFs.ipynb\n",
      "24/07/2022  05:56 pm             4,842 02-PDFs-Spreadsheets-Puzzle.ipynb\n",
      "26/06/2022  03:16 pm             8,003 03-PDFs-Spreadsheets-Puzzle-Solution.ipynb\n",
      "26/06/2022  03:16 pm            73,405 example.csv\n",
      "26/06/2022  03:16 pm    <DIR>          Exercise_Files\n",
      "26/06/2022  03:16 pm                37 makeup_new.csv\n",
      "26/06/2022  03:16 pm            19,760 Some_BrandNew_Doc.pdf\n",
      "26/06/2022  03:16 pm            19,760 Some_New_Doc.pdf\n",
      "26/06/2022  03:16 pm            19,760 Some_new_file.pdf\n",
      "26/06/2022  03:16 pm                28 to_save_file.csv\n",
      "26/06/2022  03:16 pm            31,633 Working_Business_Proposal.pdf\n",
      "              11 File(s)        212,756 bytes\n",
      "               4 Dir(s)  60,139,118,592 bytes free\n"
     ]
    }
   ],
   "source": [
    "ls"
   ]
  },
  {
   "cell_type": "code",
   "execution_count": 6,
   "metadata": {},
   "outputs": [
    {
     "data": {
      "text/plain": [
       "['h',\n",
       " '53',\n",
       " '24',\n",
       " '46',\n",
       " '4',\n",
       " '11',\n",
       " '3',\n",
       " '35',\n",
       " '17',\n",
       " '52',\n",
       " '9',\n",
       " '60',\n",
       " '26',\n",
       " '60',\n",
       " '72',\n",
       " '39',\n",
       " '11',\n",
       " '80',\n",
       " '86',\n",
       " '66',\n",
       " '59',\n",
       " '9',\n",
       " '41',\n",
       " '33',\n",
       " '11',\n",
       " '42',\n",
       " '69',\n",
       " '74',\n",
       " '91',\n",
       " '61',\n",
       " '5',\n",
       " '69',\n",
       " '17',\n",
       " '17',\n",
       " '78',\n",
       " '6',\n",
       " '51',\n",
       " '54',\n",
       " '54',\n",
       " '94',\n",
       " '47',\n",
       " '37',\n",
       " '0',\n",
       " '16',\n",
       " '71',\n",
       " '6',\n",
       " '83',\n",
       " '7',\n",
       " '6',\n",
       " '38',\n",
       " '61',\n",
       " '18',\n",
       " '68',\n",
       " '15',\n",
       " '2',\n",
       " '81',\n",
       " '49',\n",
       " '5',\n",
       " '17',\n",
       " '21',\n",
       " '36',\n",
       " '63',\n",
       " '38',\n",
       " '24',\n",
       " '3',\n",
       " '99']"
      ]
     },
     "execution_count": 6,
     "metadata": {},
     "output_type": "execute_result"
    }
   ],
   "source": [
    "import csv\n",
    "\n",
    "csv_file = open('C:\\\\Users\\\\user\\\\Documents\\\\Udemy-Complete-Python-3-Bootcamp\\\\15-PDFs-and-Spreadsheets\\\\Exercise_Files\\\\find_the_link.csv', encoding='utf-8')\n",
    "read_data = csv.reader(csv_file)\n",
    "data_list = list(read_data)\n",
    "data_list[0]"
   ]
  },
  {
   "cell_type": "code",
   "execution_count": 13,
   "metadata": {},
   "outputs": [
    {
     "data": {
      "text/plain": [
       "66"
      ]
     },
     "execution_count": 13,
     "metadata": {},
     "output_type": "execute_result"
    }
   ],
   "source": [
    "len(data_list[0])"
   ]
  },
  {
   "cell_type": "code",
   "execution_count": 15,
   "metadata": {},
   "outputs": [
    {
     "name": "stdout",
     "output_type": "stream",
     "text": [
      "https://drive.google.com/open?id=1G6SEgg018UB4_4xsAJJ5TdzrhmXipr4Q\n"
     ]
    }
   ],
   "source": [
    "link = ''\n",
    "\n",
    "ind = 0\n",
    "for row in data_list:\n",
    "    link += row[ind]\n",
    "    ind += 1\n",
    "    \n",
    "print(link)\n"
   ]
  },
  {
   "cell_type": "code",
   "execution_count": 14,
   "metadata": {},
   "outputs": [
    {
     "data": {
      "text/plain": [
       "'https://drive.google.com/open?id=1G6SEgg018UB4_4xsAJJ5TdzrhmXipr4Q'"
      ]
     },
     "execution_count": 14,
     "metadata": {},
     "output_type": "execute_result"
    }
   ],
   "source": [
    "# THe correct result is shown below, if you can't download from Google Drive, \n",
    "# we added the PDF file to the Exercise_Files folder already"
   ]
  },
  {
   "cell_type": "markdown",
   "metadata": {},
   "source": [
    "## Task Two: Download the PDF from the Google Drive link and find the phone number that is in the document. "
   ]
  },
  {
   "cell_type": "code",
   "execution_count": 1,
   "metadata": {
    "collapsed": true
   },
   "outputs": [],
   "source": [
    "# You should get this phone number\n",
    "# 505 503 4455"
   ]
  },
  {
   "cell_type": "code",
   "execution_count": 27,
   "metadata": {},
   "outputs": [],
   "source": [
    "import PyPDF2\n",
    "import re"
   ]
  },
  {
   "cell_type": "code",
   "execution_count": 19,
   "metadata": {},
   "outputs": [
    {
     "data": {
      "text/plain": [
       "'C:\\\\Users\\\\user\\\\Documents\\\\Udemy-Complete-Python-3-Bootcamp\\\\15-PDFs-and-Spreadsheets'"
      ]
     },
     "execution_count": 19,
     "metadata": {},
     "output_type": "execute_result"
    }
   ],
   "source": [
    "pwd"
   ]
  },
  {
   "cell_type": "code",
   "execution_count": 20,
   "metadata": {},
   "outputs": [],
   "source": [
    "pdf_file = open('C://Users//user/Documents//Udemy-Complete-Python-3-Bootcamp//15-PDFs-and-Spreadsheets//Exercise_Files/Find_the_Phone_Number.pdf', 'rb')"
   ]
  },
  {
   "cell_type": "code",
   "execution_count": 21,
   "metadata": {},
   "outputs": [],
   "source": [
    "pdf_reader = PyPDF2.PdfFileReader(pdf_file)"
   ]
  },
  {
   "cell_type": "code",
   "execution_count": 36,
   "metadata": {},
   "outputs": [],
   "source": [
    "pattern = r'\\d{3}\\D\\d{3}\\D\\d{4}'"
   ]
  },
  {
   "cell_type": "code",
   "execution_count": 30,
   "metadata": {},
   "outputs": [
    {
     "data": {
      "text/plain": [
       "17"
      ]
     },
     "execution_count": 30,
     "metadata": {},
     "output_type": "execute_result"
    }
   ],
   "source": [
    "pdf_reader.numPages"
   ]
  },
  {
   "cell_type": "code",
   "execution_count": 40,
   "metadata": {},
   "outputs": [
    {
     "name": "stdout",
     "output_type": "stream",
     "text": [
      "505.503.4455\n"
     ]
    }
   ],
   "source": [
    "for page_num in range(pdf_reader.numPages):\n",
    "    match = re.search(pattern, pdf_reader.getPage(page_num).extractText())\n",
    "    if match:\n",
    "        print(match.group())\n",
    "        break"
   ]
  },
  {
   "cell_type": "code",
   "execution_count": null,
   "metadata": {},
   "outputs": [],
   "source": []
  }
 ],
 "metadata": {
  "anaconda-cloud": {},
  "kernelspec": {
   "display_name": "Python 3 (ipykernel)",
   "language": "python",
   "name": "python3"
  },
  "language_info": {
   "codemirror_mode": {
    "name": "ipython",
    "version": 3
   },
   "file_extension": ".py",
   "mimetype": "text/x-python",
   "name": "python",
   "nbconvert_exporter": "python",
   "pygments_lexer": "ipython3",
   "version": "3.10.5"
  }
 },
 "nbformat": 4,
 "nbformat_minor": 2
}
